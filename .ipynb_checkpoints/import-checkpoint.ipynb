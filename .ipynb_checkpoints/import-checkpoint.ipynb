{
 "cells": [
  {
   "cell_type": "code",
   "execution_count": null,
   "metadata": {},
   "outputs": [],
   "source": [
    "import pandas as pd\n",
    "import matplotlib.pyplot as plt\n",
    "from datetime import datetime"
   ]
  },
  {
   "cell_type": "code",
   "execution_count": null,
   "metadata": {},
   "outputs": [],
   "source": [
    "def null_timeseries(ts):\n",
    "    \"\"\"\n",
    "    lets timeseries data start from 0 not from epoch startf\n",
    "    \"\"\"\n",
    "    ts['timestamp'] -= ts['timestamp'][0]\n",
    "    return ts\n",
    "\n",
    "def convert_to_ms(ts):\n",
    "    \"\"\"\n",
    "    converts timestamps from nanoseconds to milliseconds\n",
    "    \"\"\"\n",
    "    ts['timestamp'] = ts['timestamp']*1e-6\n",
    "    return ts"
   ]
  },
  {
   "cell_type": "markdown",
   "metadata": {},
   "source": [
    "# Acceleration Data "
   ]
  },
  {
   "cell_type": "code",
   "execution_count": null,
   "metadata": {},
   "outputs": [],
   "source": [
    "acc_data = pd.read_csv('./data/Polar_OH1_34829D25_20200607_185552_ACC.txt', delimiter=\" \")\n",
    "acc_data = null_timeseries(acc_data)\n",
    "acc_data = convert_to_ms(acc_data)\n",
    "acc_data.head(10)"
   ]
  },
  {
   "cell_type": "code",
   "execution_count": null,
   "metadata": {},
   "outputs": [],
   "source": [
    "# Apply moving avarage to smooth time series data\n",
    "def smooth_acc_data(data, kernel_size):\n",
    "    return pd.DataFrame({\n",
    "        'x': data['x'].rolling(kernel_size).mean(),\n",
    "        'y': data['y'].rolling(kernel_size).mean(),\n",
    "        'z': data['z'].rolling(kernel_size).mean(),\n",
    "        'timestamp': data['timestamp']\n",
    "    })\n",
    "\n",
    "acc_data_smooth = smooth_acc_data(acc_data, 500)"
   ]
  },
  {
   "cell_type": "code",
   "execution_count": null,
   "metadata": {},
   "outputs": [],
   "source": [
    "plt.figure(figsize=(20,10))\n",
    "plt.plot(acc_data_smooth['timestamp'], acc_data_smooth['x'], label=\"x\")\n",
    "plt.plot(acc_data_smooth['timestamp'], acc_data_smooth['y'], label=\"y\")\n",
    "plt.plot(acc_data_smooth['timestamp'], acc_data_smooth['z'], label=\"z\")\n",
    "plt.legend(loc=0)"
   ]
  },
  {
   "cell_type": "markdown",
   "metadata": {},
   "source": [
    "# Heartrate Data"
   ]
  },
  {
   "cell_type": "code",
   "execution_count": null,
   "metadata": {},
   "outputs": [],
   "source": [
    "hr_data = pd.read_csv('./data/Polar_OH1_34829D25_20200607_185547_HR.txt', delimiter=\" \")\n",
    "hr_data = null_timeseries(hr_data)\n",
    "hr_data = convert_to_ms(hr_data)\n",
    "hr_data.head(10)"
   ]
  },
  {
   "cell_type": "code",
   "execution_count": null,
   "metadata": {},
   "outputs": [],
   "source": [
    "def clean_hr_data(hr_data):\n",
    "    return hr_data[hr_data['hr'] !=0]\n",
    "\n",
    "hr_data = clean_hr_data(hr_data)\n",
    "plt.plot(hr_data['timestamp'], hr_data['hr'])"
   ]
  },
  {
   "cell_type": "markdown",
   "metadata": {},
   "source": [
    "# PPG Data"
   ]
  },
  {
   "cell_type": "code",
   "execution_count": null,
   "metadata": {},
   "outputs": [],
   "source": [
    "ppg_data = pd.read_csv('./data/Polar_OH1_34829D25_20200607_185550_PPG.txt', delimiter=\" \")\n",
    "ppg_data = null_timeseries(ppg_data)\n",
    "ppg_data = convert_to_ms(ppg_data)\n",
    "ppg_data.head(10)"
   ]
  },
  {
   "cell_type": "code",
   "execution_count": null,
   "metadata": {},
   "outputs": [],
   "source": [
    "# plt.figure(figsize=(20,10))\n",
    "plt.plot(ppg_data['timestamp'], ppg_data['ch1'], label=\"ch1\")\n",
    "plt.plot(ppg_data['timestamp'], ppg_data['ch2'], label=\"ch2\")\n",
    "plt.plot(ppg_data['timestamp'], ppg_data['ch3'], label=\"ch3\")\n",
    "plt.plot(ppg_data['timestamp'], ppg_data['ambient'], label=\"ambient\")\n",
    "plt.legend(loc=0)"
   ]
  },
  {
   "cell_type": "code",
   "execution_count": null,
   "metadata": {},
   "outputs": [],
   "source": [
    "#correlation between ppg channels\n",
    "ppg_data[['ch1','ch2','ch3']].corr()"
   ]
  }
 ],
 "metadata": {
  "kernelspec": {
   "display_name": "Python 3",
   "language": "python",
   "name": "python3"
  },
  "language_info": {
   "codemirror_mode": {
    "name": "ipython",
    "version": 3
   },
   "file_extension": ".py",
   "mimetype": "text/x-python",
   "name": "python",
   "nbconvert_exporter": "python",
   "pygments_lexer": "ipython3",
   "version": "3.7.7"
  }
 },
 "nbformat": 4,
 "nbformat_minor": 2
}
