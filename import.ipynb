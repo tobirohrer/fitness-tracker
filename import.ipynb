{
 "cells": [
  {
   "cell_type": "code",
   "execution_count": null,
   "metadata": {},
   "outputs": [],
   "source": [
    "import pandas as pd\n",
    "import matplotlib.pyplot as plt\n",
    "from datetime import datetime"
   ]
  },
  {
   "cell_type": "markdown",
   "metadata": {},
   "source": [
    "# Acceleration Data "
   ]
  },
  {
   "cell_type": "code",
   "execution_count": null,
   "metadata": {},
   "outputs": [],
   "source": [
    "acc_data = pd.read_csv('./data/Polar_OH1_34829D25_20200607_185552_ACC.txt', delimiter=\" \")\n",
    "acc_data.head(10)"
   ]
  },
  {
   "cell_type": "markdown",
   "metadata": {},
   "source": [
    "## Preprocessing"
   ]
  },
  {
   "cell_type": "code",
   "execution_count": null,
   "metadata": {},
   "outputs": [],
   "source": [
    "# Apply moving avarage to smooth time series data\n",
    "def smooth_acc_data(data, kernel_size):\n",
    "    return pd.DataFrame({\n",
    "        'x': data['x'].rolling(kernel_size).mean(),\n",
    "        'y': data['y'].rolling(kernel_size).mean(),\n",
    "        'z': data['z'].rolling(kernel_size).mean(),\n",
    "        'timestamp': data['timestamp']\n",
    "    })\n",
    "\n",
    "acc_data_smooth = smooth_acc_data(acc_data, 500)"
   ]
  },
  {
   "cell_type": "markdown",
   "metadata": {},
   "source": [
    "## EDA"
   ]
  },
  {
   "cell_type": "code",
   "execution_count": null,
   "metadata": {},
   "outputs": [],
   "source": [
    "plt.figure(figsize=(20,10))\n",
    "plt.plot(acc_data_smooth['timestamp'], acc_data_smooth['x'], label=\"x\")\n",
    "plt.plot(acc_data_smooth['timestamp'], acc_data_smooth['y'], label=\"y\")\n",
    "plt.plot(acc_data_smooth['timestamp'], acc_data_smooth['z'], label=\"z\")\n",
    "plt.legend(loc=0)"
   ]
  }
 ],
 "metadata": {
  "kernelspec": {
   "display_name": "Python 3",
   "language": "python",
   "name": "python3"
  },
  "language_info": {
   "codemirror_mode": {
    "name": "ipython",
    "version": 3
   },
   "file_extension": ".py",
   "mimetype": "text/x-python",
   "name": "python",
   "nbconvert_exporter": "python",
   "pygments_lexer": "ipython3",
   "version": "3.7.7"
  }
 },
 "nbformat": 4,
 "nbformat_minor": 2
}
